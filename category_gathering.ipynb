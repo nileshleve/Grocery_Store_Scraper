{
 "cells": [
  {
   "cell_type": "code",
   "execution_count": 45,
   "metadata": {},
   "outputs": [],
   "source": [
    "from bs4 import BeautifulSoup as bs\n",
    "import requests\n",
    "result = requests.get(\"https://www.bigbasket.com/product/all-categories/\")\n",
    "#print(result.headers)\n",
    "source = result.content\n",
    "soup = bs(source, 'html.parser')\n",
    "links = soup.find_all(\"a\")\n",
    "from bs4 import BeautifulSoup as bs\n",
    "urls = []\n",
    "for link in links:\n",
    "    url = link.get('href')\n",
    "    if url and '/pc/' in url:\n",
    "        urls.append(url)\n",
    "import numpy as np\n",
    "final_list = np.array(urls)\n",
    "import pandas as pd\n",
    "link_table = {'Category Reference': final_list}\n",
    "df = pd.DataFrame(link_table)\n",
    "df.to_csv('bigbasket_data.csv', index = False)"
   ]
  },
  {
   "cell_type": "code",
   "execution_count": null,
   "metadata": {},
   "outputs": [],
   "source": []
  }
 ],
 "metadata": {
  "kernelspec": {
   "display_name": "Python 3",
   "language": "python",
   "name": "python3"
  },
  "language_info": {
   "codemirror_mode": {
    "name": "ipython",
    "version": 3
   },
   "file_extension": ".py",
   "mimetype": "text/x-python",
   "name": "python",
   "nbconvert_exporter": "python",
   "pygments_lexer": "ipython3",
   "version": "3.6.6"
  }
 },
 "nbformat": 4,
 "nbformat_minor": 4
}
