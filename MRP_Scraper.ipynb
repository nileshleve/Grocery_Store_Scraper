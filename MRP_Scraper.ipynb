{
 "cells": [
  {
   "cell_type": "code",
   "execution_count": null,
   "metadata": {},
   "outputs": [],
   "source": [
    "from selenium import webdriver\n",
    "from bs4 import BeautifulSoup as bs\n",
    "import requests\n",
    "import shutil\n",
    "import time\n",
    "import os\n",
    "import json\n",
    "import pandas as pd\n",
    "import csv\n",
    "import shlex\n",
    "damn = []\n",
    "links = open('links1.txt', 'r')\n",
    "driver = webdriver.Chrome()\n",
    "url_list = links.readlines()\n",
    "for url in url_list[16:17]:\n",
    "    driver.get(url)\n",
    "    # driver.get(url.replace('\\n', ''))\n",
    "    time.sleep(8)   # 2 Sec for ssh\n",
    "    while True:\n",
    "        try:\n",
    "            driver.find_element_by_xpath(\"//button[@ng-click='vm.pagginator.showmorepage()']\").click()\n",
    "            time.sleep(2)\n",
    "            #print(\"Clicked Successfully\")\n",
    "        except:\n",
    "            break\n",
    "    html = driver.execute_script(\"return document.documentElement.outerHTML\")\n",
    "    soup = bs(html, 'html.parser')\n",
    "    products = soup.findAll(\"div\", {\"qa\": \"product\"})\n",
    "    for product in products:\n",
    "        MRP = product.find(\"span\", {\"ng-if\": \"vm.selectedProduct.dis_val.length >0\"})\n",
    "        hit_list = [MRP]\n",
    "        damn.append(hit_list)\n",
    "\n",
    "df=pd.DataFrame(damn, columns= ['MRP'])\n",
    "#df\n"
   ]
  },
  {
   "cell_type": "code",
   "execution_count": null,
   "metadata": {},
   "outputs": [],
   "source": []
  }
 ],
 "metadata": {
  "kernelspec": {
   "display_name": "Python 3",
   "language": "python",
   "name": "python3"
  },
  "language_info": {
   "codemirror_mode": {
    "name": "ipython",
    "version": 3
   },
   "file_extension": ".py",
   "mimetype": "text/x-python",
   "name": "python",
   "nbconvert_exporter": "python",
   "pygments_lexer": "ipython3",
   "version": "3.6.6"
  }
 },
 "nbformat": 4,
 "nbformat_minor": 4
}
